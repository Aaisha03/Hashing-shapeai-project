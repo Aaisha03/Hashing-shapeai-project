{
  "nbformat": 4,
  "nbformat_minor": 0,
  "metadata": {
    "colab": {
      "name": "Hashing project.ipynb",
      "provenance": [],
      "collapsed_sections": [],
      "authorship_tag": "ABX9TyMqWZlBwfNBVdQxq4jI6//F",
      "include_colab_link": true
    },
    "kernelspec": {
      "name": "python3",
      "display_name": "Python 3"
    },
    "language_info": {
      "name": "python"
    }
  },
  "cells": [
    {
      "cell_type": "markdown",
      "metadata": {
        "id": "view-in-github",
        "colab_type": "text"
      },
      "source": [
        "<a href=\"https://colab.research.google.com/github/Aaisha03/Hashing-shapeai-project/blob/main/Hashing_project.ipynb\" target=\"_parent\"><img src=\"https://colab.research.google.com/assets/colab-badge.svg\" alt=\"Open In Colab\"/></a>"
      ]
    },
    {
      "cell_type": "code",
      "metadata": {
        "id": "wEHdG5Ko_yVx"
      },
      "source": [
        "import hashlib\n",
        "import os"
      ],
      "execution_count": 55,
      "outputs": []
    },
    {
      "cell_type": "code",
      "metadata": {
        "colab": {
          "base_uri": "https://localhost:8080/"
        },
        "id": "-nKdiKkxA1OP",
        "outputId": "69f1139e-1c3f-4727-af11-5616f131f0d2"
      },
      "source": [
        "print(hashlib.algorithms_available)"
      ],
      "execution_count": 56,
      "outputs": [
        {
          "output_type": "stream",
          "text": [
            "{'sha224', 'blake2s', 'md5', 'shake_128', 'blake2b', 'shake_256', 'sha1', 'sha512', 'sha3_512', 'sha3_256', 'sha256', 'sha3_224', 'sha3_384', 'sha384'}\n"
          ],
          "name": "stdout"
        }
      ]
    },
    {
      "cell_type": "code",
      "metadata": {
        "id": "HKhaDPoyBBeX"
      },
      "source": [
        "message = 'aaisha'.encode()\n"
      ],
      "execution_count": 57,
      "outputs": []
    },
    {
      "cell_type": "code",
      "metadata": {
        "colab": {
          "base_uri": "https://localhost:8080/"
        },
        "id": "j6fIa3XPAtEK",
        "outputId": "0a104368-c52f-4a3a-9a18-fd42a01f29b3"
      },
      "source": [
        "#md5 of textual data \n",
        "print('md5:',hashlib.md5(message).hexdigest())"
      ],
      "execution_count": 58,
      "outputs": [
        {
          "output_type": "stream",
          "text": [
            "md5: d926f4831991a931e12129ded9c10b34\n"
          ],
          "name": "stdout"
        }
      ]
    },
    {
      "cell_type": "code",
      "metadata": {
        "colab": {
          "base_uri": "https://localhost:8080/"
        },
        "id": "Ihoey4gVCdBx",
        "outputId": "7058d58f-5fcb-42ec-84d8-6c1be37991bf"
      },
      "source": [
        "#generate hashes of 3 algorithms\n",
        "print('sha256:',hashlib.sha256(message).hexdigest())\n",
        "print('blake2b:',hashlib.blake2b(message).hexdigest())\n",
        "print('sha384:',hashlib.sha384(message).hexdigest())"
      ],
      "execution_count": 59,
      "outputs": [
        {
          "output_type": "stream",
          "text": [
            "sha256: a68d2c8c71a65b64a86c86494f5ebfc62499ce66c66250f03bf43cb390143b2a\n",
            "blake2b: a2ce12f1f50cfde526fee5298e825fd442f2f15d0827edf9462adf31578ffd9405627ff55b4a48f72a65d00b8c7cd2f4096a2006d40af9077fca0f99e356fd20\n",
            "sha384: 7fb25eafacf2acef695ad887442c0070e3651c1817c3cc221a8bfd65eb9672e889d9404d7655248871b0c63aa65c0b79\n"
          ],
          "name": "stdout"
        }
      ]
    },
    {
      "cell_type": "code",
      "metadata": {
        "colab": {
          "base_uri": "https://localhost:8080/"
        },
        "id": "0Og0I_X9tehe",
        "outputId": "9e2fcd84-c877-415f-9bbd-dac6c7600af0"
      },
      "source": [
        "#salting and iterating\n",
        "salt=os.urandom(16)\n",
        "print('message_hash:',hashlib.pbkdf2_hmac(\"sha256\", message, salt, 100))"
      ],
      "execution_count": 60,
      "outputs": [
        {
          "output_type": "stream",
          "text": [
            "message_hash: b'\\xa5\\xb3`\\x08\\xbc\\xd1\\xdf\\x0e\\xf1BT\\xd6\\x8c\\xab\\'2\\x89bU^\\xdb\\xc0\\xfa\\x92P\\x1e\\xf4<D\"#\\x1b'\n"
          ],
          "name": "stdout"
        }
      ]
    }
  ]
}